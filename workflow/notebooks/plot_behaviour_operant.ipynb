{
 "cells": [
  {
   "cell_type": "code",
   "execution_count": null,
   "metadata": {},
   "outputs": [],
   "source": [
    "%load_ext autoreload\n",
    "%autoreload 2"
   ]
  },
  {
   "cell_type": "code",
   "execution_count": null,
   "metadata": {},
   "outputs": [],
   "source": [
    "import simuran as smr\n",
    "from pathlib import Path\n",
    "from skm_pyutils.table import df_from_file\n",
    "from bvmpc.bv_session import Session"
   ]
  },
  {
   "cell_type": "code",
   "execution_count": null,
   "metadata": {},
   "outputs": [],
   "source": [
    "here = Path(r\"I:/Claustrum_Experiment\")\n",
    "\n",
    "df = df_from_file(here / \"results\" / \"converted_data.csv\")\n",
    "df = df[df[\"has_behaviour\"]]\n",
    "df = df[~df[\"directory\"].str.contains(\"Batch_1\")]"
   ]
  },
  {
   "cell_type": "code",
   "execution_count": null,
   "metadata": {},
   "outputs": [],
   "source": [
    "loader = smr.loader(\"NWB\")\n",
    "rc = smr.RecordingContainer.from_table(df, loader)\n",
    "r = rc[0]\n",
    "r.source_file = Path(here / r.source_file)"
   ]
  },
  {
   "cell_type": "code",
   "execution_count": null,
   "metadata": {},
   "outputs": [],
   "source": [
    "r.load()\n",
    "# smr.inspect(r)"
   ]
  },
  {
   "cell_type": "code",
   "execution_count": null,
   "metadata": {},
   "outputs": [],
   "source": [
    "s = Session(recording=r)\n",
    "print(s)\n",
    "print(list(s.info_arrays.keys()))"
   ]
  },
  {
   "cell_type": "code",
   "execution_count": null,
   "metadata": {},
   "outputs": [],
   "source": [
    "from scipy.signal import coherence\n",
    "def compute_coherence(recording):\n",
    "    \"\"\"Compute coherence between the two channels.\"\"\"\n",
    "\n",
    "    # Get the data\n",
    "    data = recording.get_data()\n",
    "    # Get the sampling rate\n",
    "    fs = recording.get_sampling_rate()\n",
    "\n",
    "    # Compute the coherence\n",
    "    f, cxy = coherence(data[0], data[1], fs=fs, nperseg=1024)\n",
    "\n",
    "    return f, cxy"
   ]
  },
  {
   "cell_type": "code",
   "execution_count": null,
   "metadata": {},
   "outputs": [],
   "source": [
    "def session_info(session):\n",
    "    trial_times = session.info_arrays[\"Trial_Start\"]\n",
    "    block_times = session.info_arrays[\"sound\"] + 5\n",
    "    output = {\n",
    "        \"trial_times\": trial_times,\n",
    "        \"block_times\": block_times,\n",
    "    }\n",
    "    return output\n",
    "\n",
    "o = session_info(s)\n",
    "print(o)"
   ]
  },
  {
   "cell_type": "code",
   "execution_count": null,
   "metadata": {},
   "outputs": [],
   "source": [
    "from bvmpc.bv_analyse import *\n",
    "\n",
    "# This is good, splits the lever presses into trials\n",
    "times = split_lever_ts(s)\n",
    "print(times)\n",
    "print(s.info_arrays[\"Trial_Start\"])"
   ]
  },
  {
   "cell_type": "code",
   "execution_count": null,
   "metadata": {},
   "outputs": [],
   "source": [
    "# Shows the lever presses\n",
    "cumplot_axona(s)"
   ]
  },
  {
   "cell_type": "code",
   "execution_count": null,
   "metadata": {},
   "outputs": [],
   "source": [
    "# The same axona plot, but without colors\n",
    "out_dir = \"temp\"\n",
    "cumplot(s, out_dir)"
   ]
  },
  {
   "cell_type": "code",
   "execution_count": null,
   "metadata": {},
   "outputs": [],
   "source": [
    "IRT(s, out_dir)"
   ]
  },
  {
   "cell_type": "code",
   "execution_count": null,
   "metadata": {},
   "outputs": [],
   "source": [
    "lever_hist(s)"
   ]
  },
  {
   "cell_type": "code",
   "execution_count": null,
   "metadata": {},
   "outputs": [],
   "source": [
    "trial_length_hist(s)"
   ]
  },
  {
   "cell_type": "code",
   "execution_count": null,
   "metadata": {},
   "outputs": [],
   "source": [
    "plot_raster_trials(s)"
   ]
  },
  {
   "cell_type": "code",
   "execution_count": null,
   "metadata": {},
   "outputs": [],
   "source": [
    "trial_clustering(s)"
   ]
  },
  {
   "cell_type": "code",
   "execution_count": null,
   "metadata": {},
   "outputs": [],
   "source": [
    "trial_clust_hier(s)"
   ]
  }
 ],
 "metadata": {
  "kernelspec": {
   "display_name": ".venv",
   "language": "python",
   "name": "python3"
  },
  "language_info": {
   "codemirror_mode": {
    "name": "ipython",
    "version": 3
   },
   "file_extension": ".py",
   "mimetype": "text/x-python",
   "name": "python",
   "nbconvert_exporter": "python",
   "pygments_lexer": "ipython3",
   "version": "3.10.9"
  },
  "orig_nbformat": 4
 },
 "nbformat": 4,
 "nbformat_minor": 2
}
