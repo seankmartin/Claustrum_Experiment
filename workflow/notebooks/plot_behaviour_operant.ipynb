{
 "cells": [
  {
   "cell_type": "code",
   "execution_count": 1,
   "metadata": {},
   "outputs": [],
   "source": [
    "%load_ext autoreload\n",
    "%autoreload 2"
   ]
  },
  {
   "cell_type": "code",
   "execution_count": 2,
   "metadata": {},
   "outputs": [],
   "source": [
    "import simuran as smr\n",
    "from pathlib import Path\n",
    "from skm_pyutils.table import df_from_file\n",
    "from bvmpc.bv_session import Session"
   ]
  },
  {
   "cell_type": "code",
   "execution_count": 4,
   "metadata": {},
   "outputs": [],
   "source": [
    "here = Path(r\"I:/Claustrum_Experiment\")\n",
    "\n",
    "df = df_from_file(here / \"results\" / \"converted_data.csv\")\n",
    "df = df[df[\"has_behaviour\"]]"
   ]
  },
  {
   "cell_type": "code",
   "execution_count": 5,
   "metadata": {},
   "outputs": [],
   "source": [
    "loader = smr.loader(\"NWB\")\n",
    "rc = smr.RecordingContainer.from_table(df, loader)\n",
    "r = rc[10]\n",
    "r.source_file = Path(here / r.source_file)"
   ]
  },
  {
   "cell_type": "code",
   "execution_count": 6,
   "metadata": {},
   "outputs": [],
   "source": [
    "r.load()\n",
    "# smr.inspect(r)"
   ]
  },
  {
   "cell_type": "code",
   "execution_count": 7,
   "metadata": {},
   "outputs": [
    {
     "name": "stdout",
     "output_type": "stream",
     "text": [
      "Tuesday, 10 Dec 2019 Subject: CAR-SA2, Trial Type 6_RandomisedBlocks_p\n",
      "['left_lever', 'right_lever', 'all_nosepokes', 'Reward', 'left_out', 'right_out', 'left_light', 'right_light', 'sound', 'Nosepoke', 'Un_Nosepoke', 'Trial Type', 'L', 'Un_L', 'Un_FR_Err', 'FR_Err', 'R', 'Un_R', 'Un_FI_Err', 'FI_Err', 'Trial_Start']\n"
     ]
    }
   ],
   "source": [
    "s = Session(recording=r)\n",
    "print(s)\n",
    "print(list(s.info_arrays.keys()))"
   ]
  },
  {
   "cell_type": "code",
   "execution_count": null,
   "metadata": {},
   "outputs": [],
   "source": [
    "# Shows the lever presses\n",
    "s = Session(recording=r)\n",
    "cumplot_axona(s)"
   ]
  },
  {
   "cell_type": "code",
   "execution_count": null,
   "metadata": {},
   "outputs": [],
   "source": [
    "# The same axona plot, but without colors\n",
    "out_dir = \"temp\"\n",
    "cumplot(s, out_dir)"
   ]
  },
  {
   "cell_type": "code",
   "execution_count": null,
   "metadata": {},
   "outputs": [],
   "source": [
    "IRT(s, out_dir)"
   ]
  },
  {
   "cell_type": "code",
   "execution_count": null,
   "metadata": {},
   "outputs": [],
   "source": [
    "lever_hist(s)"
   ]
  },
  {
   "cell_type": "code",
   "execution_count": null,
   "metadata": {},
   "outputs": [],
   "source": [
    "trial_length_hist(s)"
   ]
  },
  {
   "cell_type": "code",
   "execution_count": null,
   "metadata": {},
   "outputs": [],
   "source": [
    "plot_raster_trials(s)"
   ]
  },
  {
   "cell_type": "code",
   "execution_count": null,
   "metadata": {},
   "outputs": [],
   "source": [
    "trial_clustering(s)"
   ]
  },
  {
   "cell_type": "code",
   "execution_count": null,
   "metadata": {},
   "outputs": [],
   "source": [
    "trial_clust_hier(s)"
   ]
  }
 ],
 "metadata": {
  "kernelspec": {
   "display_name": ".venv",
   "language": "python",
   "name": "python3"
  },
  "language_info": {
   "codemirror_mode": {
    "name": "ipython",
    "version": 3
   },
   "file_extension": ".py",
   "mimetype": "text/x-python",
   "name": "python",
   "nbconvert_exporter": "python",
   "pygments_lexer": "ipython3",
   "version": "3.10.9"
  },
  "orig_nbformat": 4
 },
 "nbformat": 4,
 "nbformat_minor": 2
}
